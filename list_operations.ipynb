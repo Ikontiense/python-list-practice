{
 "cells": [
  {
   "cell_type": "code",
   "execution_count": 14,
   "id": "61947d26-687d-4a55-adbf-bead16bbb937",
   "metadata": {},
   "outputs": [],
   "source": [
    "my_list =[]"
   ]
  },
  {
   "cell_type": "code",
   "execution_count": 15,
   "id": "08c7fc76-e6b5-4da8-9266-19fb8e69e6e1",
   "metadata": {},
   "outputs": [],
   "source": [
    "my_list.append(10)\n",
    "my_list.append(20)\n",
    "my_list.append(30)\n",
    "my_list.append(40)"
   ]
  },
  {
   "cell_type": "code",
   "execution_count": 16,
   "id": "7916ac6c-fc95-4c57-a5d5-48a4b153651a",
   "metadata": {},
   "outputs": [
    {
     "data": {
      "text/plain": [
       "[10, 20, 30, 40]"
      ]
     },
     "execution_count": 16,
     "metadata": {},
     "output_type": "execute_result"
    }
   ],
   "source": [
    "my_list\n"
   ]
  },
  {
   "cell_type": "code",
   "execution_count": 17,
   "id": "c395437c-0b82-4fec-aace-252ee742713e",
   "metadata": {},
   "outputs": [],
   "source": [
    "my_list.insert(1, 15)"
   ]
  },
  {
   "cell_type": "code",
   "execution_count": 18,
   "id": "1b7b6b42-34ff-40f2-8da0-72ffb9daccce",
   "metadata": {},
   "outputs": [],
   "source": [
    "my_list.extend([50, 60, 70])"
   ]
  },
  {
   "cell_type": "code",
   "execution_count": 19,
   "id": "1785e868-35b2-4bd6-9f68-c8dcfce04e3b",
   "metadata": {},
   "outputs": [
    {
     "data": {
      "text/plain": [
       "70"
      ]
     },
     "execution_count": 19,
     "metadata": {},
     "output_type": "execute_result"
    }
   ],
   "source": [
    "my_list.pop()"
   ]
  },
  {
   "cell_type": "code",
   "execution_count": 20,
   "id": "70c9afb6-660c-49ed-9790-39220e176056",
   "metadata": {},
   "outputs": [],
   "source": [
    "my_list.sort()"
   ]
  },
  {
   "cell_type": "code",
   "execution_count": 21,
   "id": "dfbca504-3d56-4a1c-9db8-b004ed5ddbe0",
   "metadata": {},
   "outputs": [
    {
     "data": {
      "text/plain": [
       "[10, 15, 20, 30, 40, 50, 60]"
      ]
     },
     "execution_count": 21,
     "metadata": {},
     "output_type": "execute_result"
    }
   ],
   "source": [
    "my_list"
   ]
  },
  {
   "cell_type": "code",
   "execution_count": 22,
   "id": "58d698b0-8bfb-47ee-bf67-adbfb1dbc47b",
   "metadata": {},
   "outputs": [],
   "source": [
    "Index_of_30 = my_list.index(30)"
   ]
  },
  {
   "cell_type": "code",
   "execution_count": 24,
   "id": "5bae852c-c03f-47ba-a5bd-639d30efcdbd",
   "metadata": {},
   "outputs": [
    {
     "name": "stdout",
     "output_type": "stream",
     "text": [
      "Final List: [10, 15, 20, 30, 40, 50, 60]\n",
      "Index of 30: 3\n"
     ]
    }
   ],
   "source": [
    "print('Final List:', my_list)\n",
    "print ('Index of 30:', Index_of_30)"
   ]
  },
  {
   "cell_type": "code",
   "execution_count": null,
   "id": "580ce3a8-1ec4-4935-acf2-2318b33a59fb",
   "metadata": {},
   "outputs": [],
   "source": []
  },
  {
   "cell_type": "code",
   "execution_count": null,
   "id": "2a5f0f9a-ee45-44af-91fd-76987515159c",
   "metadata": {},
   "outputs": [],
   "source": []
  }
 ],
 "metadata": {
  "kernelspec": {
   "display_name": "Python 3 (ipykernel)",
   "language": "python",
   "name": "python3"
  },
  "language_info": {
   "codemirror_mode": {
    "name": "ipython",
    "version": 3
   },
   "file_extension": ".py",
   "mimetype": "text/x-python",
   "name": "python",
   "nbconvert_exporter": "python",
   "pygments_lexer": "ipython3",
   "version": "3.12.7"
  }
 },
 "nbformat": 4,
 "nbformat_minor": 5
}
